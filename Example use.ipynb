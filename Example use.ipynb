{
 "cells": [
  {
   "cell_type": "code",
   "execution_count": null,
   "metadata": {},
   "outputs": [],
   "source": [
    "from s2mosaic import mosaic\n",
    "from pathlib import Path\n",
    "import rasterio as rio\n",
    "from matplotlib import pyplot as plt\n"
   ]
  },
  {
   "cell_type": "code",
   "execution_count": null,
   "metadata": {},
   "outputs": [],
   "source": [
    "result = mosaic(\n",
    "    grid_id=\"50HMH\",\n",
    "    start_year=2022,\n",
    "    start_month=1,\n",
    "    start_day=1,\n",
    "    duration_months=2,\n",
    "    output_dir=Path(\"output\"),\n",
    "    sort_method=\"valid_data\",\n",
    "    mosaic_method=\"mean\",\n",
    "    required_bands=['visual'],\n",
    "    no_data_threshold=0.001,\n",
    ")"
   ]
  },
  {
   "cell_type": "code",
   "execution_count": null,
   "metadata": {},
   "outputs": [],
   "source": [
    "print(f\"Visual mosaic saved to: {result}\")"
   ]
  },
  {
   "cell_type": "code",
   "execution_count": null,
   "metadata": {},
   "outputs": [],
   "source": [
    "visual_array = rio.open(result).read()\n",
    "plt.imshow(visual_array.transpose(1, 2, 0))"
   ]
  },
  {
   "cell_type": "code",
   "execution_count": null,
   "metadata": {},
   "outputs": [],
   "source": [
    "required_bands = [\"B04\", \"B03\", \"B02\", \"B08\"]\n",
    "\n",
    "array, rio_profile = mosaic(\n",
    "    grid_id=\"50HMH\",\n",
    "    start_year=2022,\n",
    "    start_month=1,\n",
    "    start_day=1,\n",
    "    duration_months=2,\n",
    "    sort_method=\"valid_data\",\n",
    "    mosaic_method=\"mean\",\n",
    "    required_bands=required_bands,\n",
    "    no_data_threshold=0.001\n",
    ")\n",
    "\n",
    "print(f\"Mosaic array shape: {array.shape}, profile: {rio_profile}\")"
   ]
  },
  {
   "cell_type": "code",
   "execution_count": null,
   "metadata": {},
   "outputs": [],
   "source": [
    "# plot all four bands by themselves in a 2x2 grid with labels\n",
    "fig, axs = plt.subplots(2, 2, figsize=(10, 10))\n",
    "for i, ax in enumerate(axs.flat):\n",
    "    ax.imshow(array[i, :, :])\n",
    "    ax.set_title(f\"Band {required_bands[i]}\")"
   ]
  },
  {
   "cell_type": "code",
   "execution_count": null,
   "metadata": {},
   "outputs": [],
   "source": []
  }
 ],
 "metadata": {
  "kernelspec": {
   "display_name": "ml311",
   "language": "python",
   "name": "python3"
  },
  "language_info": {
   "codemirror_mode": {
    "name": "ipython",
    "version": 3
   },
   "file_extension": ".py",
   "mimetype": "text/x-python",
   "name": "python",
   "nbconvert_exporter": "python",
   "pygments_lexer": "ipython3",
   "version": "3.11.8"
  }
 },
 "nbformat": 4,
 "nbformat_minor": 2
}
